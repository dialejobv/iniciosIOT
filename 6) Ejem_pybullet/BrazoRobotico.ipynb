{
  "nbformat": 4,
  "nbformat_minor": 0,
  "metadata": {
    "colab": {
      "provenance": []
    },
    "kernelspec": {
      "name": "python3",
      "display_name": "Python 3"
    },
    "language_info": {
      "name": "python"
    }
  },
  "cells": [
    {
      "cell_type": "code",
      "source": [
        "!pip install pybullet\n",
        "!apt-get install -y xvfb python-opengl ffmpeg > /dev/null 2>&1\n",
        "!pip install pyvirtualdisplay > /dev/null 2>&1\n",
        "\n",
        "# Configurar pantalla virtual para renderizado\n",
        "from pyvirtualdisplay import Display\n",
        "disp = Display(visible=0, size=(1400, 900))\n",
        "disp.start()"
      ],
      "metadata": {
        "colab": {
          "base_uri": "https://localhost:8080/"
        },
        "id": "IPWKLafOlB1c",
        "outputId": "b876681d-d126-4a9a-e8ef-96064d7cf7ab"
      },
      "execution_count": null,
      "outputs": [
        {
          "output_type": "stream",
          "name": "stdout",
          "text": [
            "Collecting pybullet\n",
            "  Downloading pybullet-3.2.7-cp311-cp311-manylinux_2_17_x86_64.manylinux2014_x86_64.whl.metadata (1.8 kB)\n",
            "Downloading pybullet-3.2.7-cp311-cp311-manylinux_2_17_x86_64.manylinux2014_x86_64.whl (103.2 MB)\n",
            "\u001b[2K   \u001b[90m━━━━━━━━━━━━━━━━━━━━━━━━━━━━━━━━━━━━━━━━\u001b[0m \u001b[32m103.2/103.2 MB\u001b[0m \u001b[31m6.2 MB/s\u001b[0m eta \u001b[36m0:00:00\u001b[0m\n",
            "\u001b[?25hInstalling collected packages: pybullet\n",
            "Successfully installed pybullet-3.2.7\n"
          ]
        },
        {
          "output_type": "execute_result",
          "data": {
            "text/plain": [
              "<pyvirtualdisplay.display.Display at 0x798539b7bed0>"
            ]
          },
          "metadata": {},
          "execution_count": 1
        }
      ]
    },
    {
      "cell_type": "code",
      "execution_count": null,
      "metadata": {
        "colab": {
          "base_uri": "https://localhost:8080/",
          "height": 499
        },
        "id": "bTnIrI_AkhC6",
        "outputId": "92fcd712-7f70-439f-8807-d83e74f314e4"
      },
      "outputs": [
        {
          "output_type": "display_data",
          "data": {
            "text/plain": [
              "<Figure size 800x600 with 1 Axes>"
            ],
            "image/png": "[encoded data removed]"
          },
          "metadata": {}
        }
      ],
      "source": [
        "import pybullet as p\n",
        "import pybullet_data\n",
        "import numpy as np\n",
        "import time\n",
        "import matplotlib.pyplot as plt\n",
        "from IPython import display\n",
        "\n",
        "# Primero desconectar cualquier instancia existente de PyBullet\n",
        "if p.isConnected():\n",
        "    p.disconnect()\n",
        "\n",
        "# Inicializar nueva conexión\n",
        "physicsClient = p.connect(p.GUI)\n",
        "\n",
        "# Configurar la ruta de búsqueda para los datos\n",
        "p.setAdditionalSearchPath(pybullet_data.getDataPath())\n",
        "p.setGravity(0, 0, -10)\n",
        "\n",
        "# Cargar el robot UR5 - usando la ruta completa en pybullet_data\n",
        "# pybullet_data incluye algunos modelos, pero puede que necesites la ruta específica\n",
        "try:\n",
        "    # Intenta cargar desde los modelos integrados en pybullet_data\n",
        "    robot_id = p.loadURDF(\"ur5/ur5.urdf\", [0, 0, 0], useFixedBase=True)\n",
        "except p.error:\n",
        "    # Si falla, intentemos alternativas comunes\n",
        "    try:\n",
        "        robot_id = p.loadURDF(\"ur_description/urdf/ur5.urdf\", [0, 0, 0], useFixedBase=True)\n",
        "    except p.error:\n",
        "        # Si también falla, probemos con el modelo más común disponible en pybullet_data\n",
        "        print(\"No se pudo cargar el modelo UR5, cargando robot alternativo...\")\n",
        "        robot_id = p.loadURDF(\"kuka_iiwa/model.urdf\", [0, 0, 0], useFixedBase=True)\n",
        "\n",
        "# Configuración de la cámara\n",
        "p.resetDebugVisualizerCamera(cameraDistance=1.5, cameraYaw=90, cameraPitch=-30, cameraTargetPosition=[0, 0, 0.5])\n",
        "\n",
        "# Obtener información de las articulaciones\n",
        "num_joints = p.getNumJoints(robot_id)\n",
        "joint_indices = [i for i in range(num_joints) if p.getJointInfo(robot_id, i)[2] == p.JOINT_REVOLUTE]\n",
        "\n",
        "# Posiciones objetivo para las articulaciones\n",
        "# Asegurarse de que el número de posiciones objetivo sea igual al número de articulaciones\n",
        "target_positions = [np.deg2rad(45), np.deg2rad(-30), np.deg2rad(60),\n",
        "                   np.deg2rad(0), np.deg2rad(90), np.deg2rad(0)]\n",
        "\n",
        "# Si tenemos menos posiciones objetivo que articulaciones, ajustamos\n",
        "if len(target_positions) > len(joint_indices):\n",
        "    target_positions = target_positions[:len(joint_indices)]\n",
        "elif len(target_positions) < len(joint_indices):\n",
        "    # Rellenar con ceros si faltan posiciones\n",
        "    target_positions.extend([0] * (len(joint_indices) - len(target_positions)))\n",
        "\n",
        "# Control de posición para las articulaciones\n",
        "for i, joint_idx in enumerate(joint_indices):\n",
        "    p.setJointMotorControl2(\n",
        "        bodyUniqueId=robot_id,\n",
        "        jointIndex=joint_idx,\n",
        "        controlMode=p.POSITION_CONTROL,  # Corregido \"controMode\" a \"controlMode\"\n",
        "        targetPosition=target_positions[i],\n",
        "        targetVelocity=0,\n",
        "        force=500\n",
        "    )\n",
        "\n",
        "# Simulación y visualización\n",
        "plt.figure(figsize=(8, 6))\n",
        "for _ in range(100):\n",
        "    p.stepSimulation()\n",
        "    time.sleep(0.01)\n",
        "\n",
        "    # Captura de imagen de la cámara\n",
        "    width, height, rgbImg, depthImg, segImg = p.getCameraImage(\n",
        "        width=640,\n",
        "        height=480,\n",
        "        viewMatrix=p.computeViewMatrixFromYawPitchRoll(\n",
        "            cameraTargetPosition=[0, 0, 0.5],\n",
        "            distance=1.5,\n",
        "            yaw=90,\n",
        "            pitch=-30,\n",
        "            roll=0,\n",
        "            upAxisIndex=2\n",
        "        ),\n",
        "        projectionMatrix=p.computeProjectionMatrixFOV(\n",
        "            fov=60,\n",
        "            aspect=640 / 480,\n",
        "            nearVal=0.1,\n",
        "            farVal=100\n",
        "        )\n",
        "    )\n",
        "\n",
        "    # Mostrar imagen\n",
        "    plt.clf()\n",
        "    plt.imshow(rgbImg)\n",
        "    plt.axis('off')\n",
        "    display.display(plt.gcf())\n",
        "    display.clear_output(wait=True)\n",
        "\n",
        "# Desconectar al finalizar\n",
        "p.disconnect()"
      ]
    }
  ]
}